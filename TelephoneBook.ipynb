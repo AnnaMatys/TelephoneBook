{
 "cells": [
  {
   "cell_type": "code",
   "execution_count": 1,
   "id": "c5daf628",
   "metadata": {},
   "outputs": [
    {
     "name": "stdout",
     "output_type": "stream",
     "text": [
      "Please type surname to retrieve telephone number of this person: Nowak\n",
      "789 563 234\n"
     ]
    }
   ],
   "source": [
    "telephone_book = {'Kowalski' : '602 456 289', 'Nowak' : '789 563 234', 'Sroka' : '567 345 982', 'Karwan' : '789 235 671', 'Malinowska' : '675459238'}\n",
    "\n",
    "try:\n",
    "    entered_surname = input('Please type surname to retrieve telephone number of this person: ')\n",
    "    print(telephone_book[entered_surname])\n",
    "except:\n",
    "    if entered_surname not in telephone_book:\n",
    "        print(\"The surname that you typed does not exist in our telephone book.\")\n",
    "\n"
   ]
  }
 ],
 "metadata": {
  "kernelspec": {
   "display_name": "Python 3 (ipykernel)",
   "language": "python",
   "name": "python3"
  },
  "language_info": {
   "codemirror_mode": {
    "name": "ipython",
    "version": 3
   },
   "file_extension": ".py",
   "mimetype": "text/x-python",
   "name": "python",
   "nbconvert_exporter": "python",
   "pygments_lexer": "ipython3",
   "version": "3.9.7"
  }
 },
 "nbformat": 4,
 "nbformat_minor": 5
}
